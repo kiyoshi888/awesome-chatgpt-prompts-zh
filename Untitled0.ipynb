{
  "nbformat": 4,
  "nbformat_minor": 0,
  "metadata": {
    "colab": {
      "provenance": [],
      "authorship_tag": "ABX9TyO7NCT9YFwsE/Of7+a86Z6d",
      "include_colab_link": true
    },
    "kernelspec": {
      "name": "python3",
      "display_name": "Python 3"
    },
    "language_info": {
      "name": "python"
    },
    "accelerator": "TPU"
  },
  "cells": [
    {
      "cell_type": "markdown",
      "metadata": {
        "id": "view-in-github",
        "colab_type": "text"
      },
      "source": [
        "<a href=\"https://colab.research.google.com/github/kiyoshi888/awesome-chatgpt-prompts-zh/blob/main/Untitled0.ipynb\" target=\"_parent\"><img src=\"https://colab.research.google.com/assets/colab-badge.svg\" alt=\"Open In Colab\"/></a>"
      ]
    },
    {
      "cell_type": "markdown",
      "source": [
        "variable -> OK (アルファベットのみ)\n",
        "variable_123 -> OK (アルファベットと _ と数字のみ)\n",
        "123_variable -> NG (数字で始まっている)\n",
        "vari$able -> NG (記号は変数名として使えない)\n",
        "raise -> NG (「raise」という単語はPythonで特別な意味を持つので使えない)"
      ],
      "metadata": {
        "id": "Tw69T0LmsWZA"
      }
    },
    {
      "cell_type": "code",
      "source": [
        "# この行はまるまるコメントです\n",
        "\n",
        "1 + 2 # ここもコメント"
      ],
      "metadata": {
        "colab": {
          "base_uri": "https://localhost:8080/"
        },
        "id": "xoZnnEjNshRC",
        "outputId": "f4a7a38c-d0f7-4a78-f86d-22318a39142b"
      },
      "execution_count": null,
      "outputs": [
        {
          "output_type": "execute_result",
          "data": {
            "text/plain": [
              "3"
            ]
          },
          "metadata": {},
          "execution_count": 35
        }
      ]
    },
    {
      "cell_type": "code",
      "source": [
        "abs(-123)"
      ],
      "metadata": {
        "colab": {
          "base_uri": "https://localhost:8080/"
        },
        "id": "OpLd88PIsvdP",
        "outputId": "d87a9345-bd30-4990-fd08-86b9b38da143"
      },
      "execution_count": null,
      "outputs": [
        {
          "output_type": "execute_result",
          "data": {
            "text/plain": [
              "123"
            ]
          },
          "metadata": {},
          "execution_count": 36
        }
      ]
    }
  ]
}